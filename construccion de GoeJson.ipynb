{
 "cells": [
  {
   "cell_type": "markdown",
   "metadata": {},
   "source": [
    "# Estructura para general los fichero GeoJson para un HeatMap con OSM\n",
    "\n",
    "## imports librerias y lectura de datos"
   ]
  },
  {
   "cell_type": "code",
   "execution_count": 1,
   "metadata": {},
   "outputs": [],
   "source": [
    "import pandas as pd \n",
    "import json\n",
    "import dateutil.parser\n",
    "import datetime"
   ]
  },
  {
   "cell_type": "code",
   "execution_count": 2,
   "metadata": {},
   "outputs": [],
   "source": [
    "data = pd.read_csv(\"transfor_data/vendor/datosViajesBiciMad.csv\")\n",
    "stations = pd.read_csv(\"transfor_data/vendor/stations.csv\")"
   ]
  },
  {
   "cell_type": "markdown",
   "metadata": {},
   "source": [
    "## Filtro por fechas"
   ]
  },
  {
   "cell_type": "code",
   "execution_count": 3,
   "metadata": {},
   "outputs": [],
   "source": [
    "data[\"Fecha\"] = pd.to_datetime(data[\"Fecha\"])"
   ]
  },
  {
   "cell_type": "code",
   "execution_count": 4,
   "metadata": {},
   "outputs": [],
   "source": [
    "date_concret = datetime.datetime(2017, 8, 1)\n",
    "data_good = []\n",
    "x = 0\n",
    "for index, row in data.iterrows():\n",
    "    if row[\"Fecha\"].date() == date_concret.date():\n",
    "        data_good.append(row)"
   ]
  },
  {
   "cell_type": "code",
   "execution_count": 5,
   "metadata": {},
   "outputs": [
    {
     "data": {
      "text/html": [
       "<div>\n",
       "<style scoped>\n",
       "    .dataframe tbody tr th:only-of-type {\n",
       "        vertical-align: middle;\n",
       "    }\n",
       "\n",
       "    .dataframe tbody tr th {\n",
       "        vertical-align: top;\n",
       "    }\n",
       "\n",
       "    .dataframe thead th {\n",
       "        text-align: right;\n",
       "    }\n",
       "</style>\n",
       "<table border=\"1\" class=\"dataframe\">\n",
       "  <thead>\n",
       "    <tr style=\"text-align: right;\">\n",
       "      <th></th>\n",
       "      <th>id</th>\n",
       "      <th>capacity</th>\n",
       "      <th>latitude</th>\n",
       "      <th>longitude</th>\n",
       "    </tr>\n",
       "  </thead>\n",
       "  <tbody>\n",
       "    <tr>\n",
       "      <th>0</th>\n",
       "      <td>1</td>\n",
       "      <td>24</td>\n",
       "      <td>40.416897</td>\n",
       "      <td>-3.702425</td>\n",
       "    </tr>\n",
       "    <tr>\n",
       "      <th>1</th>\n",
       "      <td>2</td>\n",
       "      <td>24</td>\n",
       "      <td>40.417000</td>\n",
       "      <td>-3.702421</td>\n",
       "    </tr>\n",
       "    <tr>\n",
       "      <th>2</th>\n",
       "      <td>3</td>\n",
       "      <td>24</td>\n",
       "      <td>40.420589</td>\n",
       "      <td>-3.705842</td>\n",
       "    </tr>\n",
       "    <tr>\n",
       "      <th>3</th>\n",
       "      <td>4</td>\n",
       "      <td>18</td>\n",
       "      <td>40.430294</td>\n",
       "      <td>-3.706917</td>\n",
       "    </tr>\n",
       "    <tr>\n",
       "      <th>4</th>\n",
       "      <td>5</td>\n",
       "      <td>24</td>\n",
       "      <td>40.428551</td>\n",
       "      <td>-3.702588</td>\n",
       "    </tr>\n",
       "  </tbody>\n",
       "</table>\n",
       "</div>"
      ],
      "text/plain": [
       "   id  capacity   latitude  longitude\n",
       "0   1        24  40.416897  -3.702425\n",
       "1   2        24  40.417000  -3.702421\n",
       "2   3        24  40.420589  -3.705842\n",
       "3   4        18  40.430294  -3.706917\n",
       "4   5        24  40.428551  -3.702588"
      ]
     },
     "execution_count": 5,
     "metadata": {},
     "output_type": "execute_result"
    }
   ],
   "source": [
    "stations.head()"
   ]
  },
  {
   "cell_type": "markdown",
   "metadata": {},
   "source": [
    "## Guardado en ficheros GeoJson"
   ]
  },
  {
   "cell_type": "code",
   "execution_count": 8,
   "metadata": {},
   "outputs": [],
   "source": [
    "save_data = {\n",
    "    \"type\": \"FeatureCollection\"\n",
    "    }\n",
    "features = []\n",
    "concret_hour = 2\n",
    "for i in data_good:\n",
    "    if (concret_hour == i[\"hora\"]):\n",
    "        station = i[\"Estacion\"]\n",
    "        latitude = stations[stations[\"id\"]==station][\"latitude\"]\n",
    "        longitude = stations[stations[\"id\"]==station][\"longitude\"]\n",
    "        index_lat = latitude.index.values.tolist()\n",
    "        index_long = longitude.index.values.tolist()\n",
    "        point = [longitude[index_long[0]],latitude[index_lat[0]]]\n",
    "    \n",
    "        iterations = i[\"NumUsuariosLLeganEstacion\"]\n",
    "        for j in range(0,iterations):\n",
    "            features.append({\n",
    "                \"type\": \"Feature\",\n",
    "                \"geometry\": {\n",
    "                    \"type\": \"Point\",\n",
    "                    \"coordinates\": point\n",
    "                },\n",
    "                \"properties\": {\n",
    "                   \"prop0\": \"value0\"\n",
    "               }\n",
    "            })\n",
    "save_data[\"features\"] = features\n",
    "        \n",
    "#save_data[\"features\"] = features\n",
    "def jsonDefault(object):\n",
    "    return object.__dict__\n",
    "\n",
    "with open(str(date_concret)+\".json\", \"w\") as outfile:\n",
    "    json.dump(save_data, outfile, default=jsonDefault, indent=4)"
   ]
  },
  {
   "cell_type": "code",
   "execution_count": null,
   "metadata": {},
   "outputs": [],
   "source": []
  }
 ],
 "metadata": {
  "kernelspec": {
   "display_name": "Python 3",
   "language": "python",
   "name": "python3"
  },
  "language_info": {
   "codemirror_mode": {
    "name": "ipython",
    "version": 3
   },
   "file_extension": ".py",
   "mimetype": "text/x-python",
   "name": "python",
   "nbconvert_exporter": "python",
   "pygments_lexer": "ipython3",
   "version": "3.6.6"
  }
 },
 "nbformat": 4,
 "nbformat_minor": 2
}
